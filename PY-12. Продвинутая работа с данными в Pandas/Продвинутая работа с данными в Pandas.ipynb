{
 "cells": [
  {
   "cell_type": "markdown",
   "metadata": {},
   "source": [
    "Suburb — наименование пригорода  \n",
    "StreetType — подтип улицы  \n",
    "Rooms — количество комнат в помещении  \n",
    "MeanRoomsSquare — средняя площадь одной комнаты  \n",
    "Type — тип здания (h — дом, коттедж, вилла, терраса; u — блочный, дуплексный дом; t — таунхаус)  \n",
    "Price — цена помещения   \n",
    "Method — метод продажи  \n",
    "SellerG — риэлторская компания  \n",
    "Date — дата продажи (в формате день/месяц/год)   \n",
    "MonthSale — месяц продажи  \n",
    "WeekdaySale — номер дня недели продажи  \n",
    "Weekend — «признак-мигалка» выходного дня   \n",
    "Distance — расстояния до объекта от центра Мельбурна   \n",
    "Postcode — почтовый индекс  \n",
    "Bedroom — количество спален  \n",
    "Bathroom — количество ванных комнат  \n",
    "Car — количество парковочных мест  \n",
    "Landsize — площадь прилегающей территории  \n",
    "AreaRatio — коэффициент соотношения площади здания к площади участка   \n",
    "BuildingArea — площадь здания  \n",
    "AgeBuilding — возраст постройки  \n",
    "CouncilArea — региональное управление  \n",
    "Lattitude — географическая широта  \n",
    "Longitude — географическая долгота  \n",
    "Regionname — наименование района Мельбурна  \n",
    "Propertycount — количество объектов недвижимости в районе  "
   ]
  }
 ],
 "metadata": {
  "kernelspec": {
   "display_name": "Python 3.11.0 64-bit",
   "language": "python",
   "name": "python3"
  },
  "language_info": {
   "name": "python",
   "version": "3.11.0"
  },
  "orig_nbformat": 4,
  "vscode": {
   "interpreter": {
    "hash": "aee8b7b246df8f9039afb4144a1f6fd8d2ca17a180786b69acc140d282b71a49"
   }
  }
 },
 "nbformat": 4,
 "nbformat_minor": 2
}
